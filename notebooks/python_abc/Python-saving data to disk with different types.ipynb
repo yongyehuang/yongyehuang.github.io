{
 "cells": [
  {
   "cell_type": "markdown",
   "metadata": {},
   "source": [
    "本文来探索一下python中提供的各种数据保存格式的性能如何。主要以一个 ndarray 格式的数据进行处理分析。包括下面几种方式：\n",
    "\n",
    "- .bin格式, np.tofile() 和 np.fromfile()\n",
    "- .npy格式，np.save() 和 np.load()\n",
    "- .txt 或者 .csv格式，np.savetxt() 和 np.loadtxt()\n",
    "- .h5 格式，h5py.File(，'r' 或者 'w') \n",
    "- .pkl 格式， pickle.dump()和pickle.load()"
   ]
  },
  {
   "cell_type": "code",
   "execution_count": 1,
   "metadata": {
    "collapsed": true
   },
   "outputs": [],
   "source": [
    "import numpy as np\n",
    "from __future__ import print_function\n",
    "import time"
   ]
  },
  {
   "cell_type": "code",
   "execution_count": 20,
   "metadata": {
    "collapsed": false
   },
   "outputs": [
    {
     "name": "stdout",
     "output_type": "stream",
     "text": [
      "int64 (10000, 5000)\n",
      "[[90 96 38 ..., 67 40 79]\n",
      " [40 12 71 ..., 64 76 15]]\n"
     ]
    }
   ],
   "source": [
    "a = np.random.randint(0, 100, size=(10000, 5000))\n",
    "print(a.dtype, a.shape)\n",
    "print(a[:2])"
   ]
  },
  {
   "cell_type": "markdown",
   "metadata": {},
   "source": [
    "### 1.tofile() 和 fromfile()"
   ]
  },
  {
   "cell_type": "code",
   "execution_count": 21,
   "metadata": {
    "collapsed": false
   },
   "outputs": [
    {
     "name": "stdout",
     "output_type": "stream",
     "text": [
      "CPU times: user 4 ms, sys: 392 ms, total: 396 ms\n",
      "Wall time: 2.06 s\n",
      "CPU times: user 4 ms, sys: 156 ms, total: 160 ms\n",
      "Wall time: 160 ms\n",
      "(50000000,)\n",
      "[90 96]\n"
     ]
    }
   ],
   "source": [
    "%time a.tofile('data/a.bin')\n",
    "%time b = np.fromfile('data/a.bin', dtype=np.int64)\n",
    "print(b.shape)\n",
    "print(b[:2])"
   ]
  },
  {
   "cell_type": "markdown",
   "metadata": {},
   "source": [
    "- 读入数据的时候要正确设置 dtype 参数\n",
    "\n",
    "- 读入的数据是一维的，还需要经过 reshape 处理。"
   ]
  },
  {
   "cell_type": "markdown",
   "metadata": {},
   "source": [
    "### 2.save()和load()"
   ]
  },
  {
   "cell_type": "code",
   "execution_count": 22,
   "metadata": {
    "collapsed": false
   },
   "outputs": [
    {
     "name": "stdout",
     "output_type": "stream",
     "text": [
      "CPU times: user 0 ns, sys: 272 ms, total: 272 ms\n",
      "Wall time: 269 ms\n",
      "CPU times: user 0 ns, sys: 116 ms, total: 116 ms\n",
      "Wall time: 116 ms\n",
      "(10000, 5000)\n",
      "[[90 96 38 ..., 67 40 79]\n",
      " [40 12 71 ..., 64 76 15]]\n"
     ]
    }
   ],
   "source": [
    "%time np.save('data/a.npy', a)\n",
    "%time b = np.load('data/a.npy')\n",
    "print(b.shape)\n",
    "print(b[:2])"
   ]
  },
  {
   "cell_type": "markdown",
   "metadata": {},
   "source": [
    "- NumPy专用的二进制格式保存数据，它们会自动处理元素类型和形状等信息"
   ]
  },
  {
   "cell_type": "markdown",
   "metadata": {},
   "source": [
    "### 3.savetxt()和loadtxt()"
   ]
  },
  {
   "cell_type": "code",
   "execution_count": 24,
   "metadata": {
    "collapsed": false
   },
   "outputs": [
    {
     "name": "stdout",
     "output_type": "stream",
     "text": [
      "CPU times: user 18.4 s, sys: 60 ms, total: 18.5 s\n",
      "Wall time: 18.4 s\n",
      "CPU times: user 55.9 s, sys: 476 ms, total: 56.4 s\n",
      "Wall time: 56.3 s\n",
      "(10000, 5000)\n",
      "[[ 90.  96.  38. ...,  67.  40.  79.]\n",
      " [ 40.  12.  71. ...,  64.  76.  15.]]\n"
     ]
    }
   ],
   "source": [
    "%time np.savetxt('data/a.txt', a, fmt='%d', delimiter=',')  # 设置以整数形式存储，以逗号隔开\n",
    "%time b = np.loadtxt('data/a.txt', delimiter=',')\n",
    "print(b.shape)\n",
    "print(b[:2])"
   ]
  },
  {
   "cell_type": "markdown",
   "metadata": {},
   "source": [
    "- 读写1维和2维数组的文本文件"
   ]
  },
  {
   "cell_type": "markdown",
   "metadata": {},
   "source": [
    "### 4.h5py.File()"
   ]
  },
  {
   "cell_type": "code",
   "execution_count": 25,
   "metadata": {
    "collapsed": false
   },
   "outputs": [
    {
     "name": "stdout",
     "output_type": "stream",
     "text": [
      "time cost 0.26s\n"
     ]
    }
   ],
   "source": [
    "import h5py\n",
    "\n",
    "time0 = time.time()\n",
    "f = h5py.File('data/a.h5','w')   #创建一个h5文件，文件指针是f  \n",
    "f['data'] = a                    #将数据写入文件的主键data下面  \n",
    "f.close()                        #关闭文件  \n",
    "print('saving time %.2fs' % (time.time() - time0))"
   ]
  },
  {
   "cell_type": "code",
   "execution_count": 26,
   "metadata": {
    "collapsed": false
   },
   "outputs": [
    {
     "name": "stdout",
     "output_type": "stream",
     "text": [
      "loading time 0.15s\n",
      "(10000, 5000)\n",
      "[[90 96 38 ..., 67 40 79]\n",
      " [40 12 71 ..., 64 76 15]]\n"
     ]
    }
   ],
   "source": [
    "time0 = time.time()\n",
    "f = h5py.File('data/a.h5','r')   #打开h5文件  \n",
    "# print f.keys()                      #可以查看所有的主键  \n",
    "b = f['data'][:]                    #取出主键为data的所有的键值  \n",
    "f.close()  \n",
    "print('loading time %.2fs' % (time.time() - time0))\n",
    "print(b.shape)\n",
    "print(b[:2])"
   ]
  },
  {
   "cell_type": "markdown",
   "metadata": {},
   "source": [
    "### 5.pickle.dump()和pickle.load()"
   ]
  },
  {
   "cell_type": "code",
   "execution_count": 27,
   "metadata": {
    "collapsed": false
   },
   "outputs": [
    {
     "name": "stdout",
     "output_type": "stream",
     "text": [
      "CPU times: user 30.1 s, sys: 5.92 s, total: 36.1 s\n",
      "Wall time: 36.1 s\n",
      "CPU times: user 6.84 s, sys: 10.4 s, total: 17.2 s\n",
      "Wall time: 17.2 s\n",
      "(10000, 5000)\n",
      "[[90 96 38 ..., 67 40 79]\n",
      " [40 12 71 ..., 64 76 15]]\n"
     ]
    }
   ],
   "source": [
    "import pickle\n",
    "with open('data/a.pkl', 'wb') as outp:\n",
    "    %time pickle.dump(a, outp)\n",
    "    \n",
    "with open('data/a.pkl', 'rb') as inp:\n",
    "    %time b = pickle.load(inp)\n",
    "    \n",
    "print(b.shape)\n",
    "print(b[:2])"
   ]
  },
  {
   "cell_type": "markdown",
   "metadata": {},
   "source": [
    "## 结果统计\n",
    "\n",
    "|方法|文件格式|大小|写入耗时|读入耗时|需要处理类型?|需要处理形状?|\n",
    "|----------|:------|:----------:|---------:|----------:|:---------:|:---------:|\n",
    "|tofile()|.bin|381.47MB|2.06 s|160 ms|是|是|\n",
    "|**save()**|.npy|**381.47MB**|269 ms|**116 ms**|否|否|\n",
    "|savetxt()|.txt|**138.28MB**|18.4 s|56.3 s|是|否|\n",
    "|**h5py.File()**|.h5|**381.47MB**|**260ms**|150ms|否|否|\n",
    "|pickle.dump()|.pkl|1.39GB|36.1 s|17.2 s|否|否|\n",
    "\n",
    "- 总体上最优的方法是使用 np.save() 和 h5py.File(, 'r' or 'w');np.savez() 可以存储多个值， 而 h5py 提供字典的方式存储更是非常方便。\n",
    "- txt 和 csv 文本文件占用的空间是最少的，但是耗时非常大\n",
    "- np.tofile() 方法要处理数据的类型和形状，很烦，可以放弃了\n",
    "- pickle() 的 .pkl 文件非常非常占空间，而且巨慢，直接放弃！！"
   ]
  },
  {
   "cell_type": "markdown",
   "metadata": {},
   "source": [
    "## 非对齐的 ndarray 数据存储"
   ]
  },
  {
   "cell_type": "code",
   "execution_count": 2,
   "metadata": {
    "collapsed": false
   },
   "outputs": [
    {
     "data": {
      "text/plain": [
       "array([[1, 2, 3], [4, 5], [77]], dtype=object)"
      ]
     },
     "execution_count": 2,
     "metadata": {},
     "output_type": "execute_result"
    }
   ],
   "source": [
    "import h5py\n",
    "\n",
    "list_a = [[1,2,3], [4,5], [77]]\n",
    "arr_a = np.asarray(list_a)\n",
    "arr_a"
   ]
  },
  {
   "cell_type": "code",
   "execution_count": null,
   "metadata": {
    "collapsed": true
   },
   "outputs": [],
   "source": [
    "# 无法保存长度不同的 ndarray\n",
    "f = h5py.File('data/arr_a.h5', 'w')\n",
    "f['arr_a'] = arr_a  #　报错，每个元素都是 Object。"
   ]
  },
  {
   "cell_type": "code",
   "execution_count": 6,
   "metadata": {
    "collapsed": false
   },
   "outputs": [
    {
     "name": "stdout",
     "output_type": "stream",
     "text": [
      "[[1, 2, 3] [4, 5] [77]]\n"
     ]
    }
   ],
   "source": [
    "np.save('data/arr_a.npy', arr_a)\n",
    "b = np.load('data/arr_a.npy')\n",
    "print(b)"
   ]
  },
  {
   "cell_type": "markdown",
   "metadata": {},
   "source": [
    "通过上面的比较，我们可以看到 np.save() 非常强大呀，没办法，只好选择它了。"
   ]
  },
  {
   "cell_type": "markdown",
   "metadata": {},
   "source": [
    "## 参考\n",
    "\n",
    "- [python:numpy（文件存取）](http://www.cnblogs.com/dmir/p/5009075.html) \n",
    "- [HDF5在python上的使用](http://blog.csdn.net/leibaojiangjun1/article/details/53635353)"
   ]
  }
 ],
 "metadata": {
  "anaconda-cloud": {},
  "kernelspec": {
   "display_name": "Python [conda root]",
   "language": "python",
   "name": "conda-root-py"
  },
  "language_info": {
   "codemirror_mode": {
    "name": "ipython",
    "version": 2
   },
   "file_extension": ".py",
   "mimetype": "text/x-python",
   "name": "python",
   "nbconvert_exporter": "python",
   "pygments_lexer": "ipython2",
   "version": "2.7.12"
  }
 },
 "nbformat": 4,
 "nbformat_minor": 1
}
