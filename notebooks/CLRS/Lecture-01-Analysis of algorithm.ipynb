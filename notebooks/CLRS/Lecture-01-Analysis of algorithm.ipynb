{
 "cells": [
  {
   "cell_type": "markdown",
   "metadata": {},
   "source": [
    "## 1. 性能（performance）是算法分析最重要的内容\n",
    "\n",
    "## 2. 衡量运行效率的因素\n",
    "\n",
    "- **数据的输入情况。**比如对于插入排序来说，一个已经排序好的序列更加容易排序。\n",
    "- **数据的数量。**比如短序列比长序列更好排序。\n",
    "- **找到运行时间的上界。**一般情况下，我们需要找到程序运行时间的上界来得到保证绝对不需要更长时间。\n",
    "\n",
    "## 3. 几种分析运行时间的方法\n",
    "\n",
    "- **最坏情况分析。** 用T(n)来表示算法在输入规模为n时的最大运行时间。它的作用就是你可以用它来给别人做出承诺，即我的算法在最坏的情况下的运行时间也不会超过T(n)。\n",
    "- **平均情况分析。** 用T(n)来表示算法在输入规模为n时的期望运行时间。假设所有的输入符合均匀分布，计算所有输入所消耗的平均时间。\n",
    "- **最优情况分析。** 如果你想骗人，用一组极好的数据在一个效率极低的算法上跑，我们称之为算法的运行时间的最好情况，这是不够说服人的。\n",
    "\n",
    "一般情况下都是进行最坏情况分析，而最优情况分析实际上没有任何意义。\n",
    "\n",
    "## 4. 渐进分析\n",
    "我们通常所说的运行时间，都会存在一个相对时间与绝对时间的区别。比如在一台巨型机和在一台微机上运行同一个程序，所用的时间显示是不同的。这是我们就需要引入一个更加宏观的概念：渐近分析\n",
    "\n",
    "- 对于一个算法的运行时间，忽略那些依赖于机器的常量；\n",
    "- 忽略所有的低阶项，只分析最高阶项；\n",
    "- 关注于运行时间的增长，而不仅仅只是运行时间。不去考虑每个基本运算所消耗的时间。\n",
    "\n",
    "### 4.1 渐进标注 $\\Theta$ 标注\n",
    "引入一个助记符号 $\\Theta(n)$.\n",
    "\n",
    "举一个例子：如果一个算法的运行时间为：$3n^3 + 2n^2 + 4n + 1$，那么忽略掉依赖机器的常量1，以及所有的低阶项2n^2、4n，那么这个算法的时间复杂度就为$\\Theta(n^3)$。\n",
    "\n",
    "在这里，老师也进行了很形象的说明。如果算法A的渐近时间复杂度是$\\Theta(n^3)$，算法B的是$\\Theta(n^2)$，那么一定存在一个足够大的n，使得当数据规模大于n时，算法B的运行时间要小于A，不管算法A一开始的优势有多么大，不管算法B的渐近复杂度的系数和常数有多么大，都没有用。**用这样一个助记符就可以将时间复杂度的分析独立于机器，独立于具体的常数，对我们分析算法将会十分有利。**\n",
    "\n",
    "## 5. 两个例子：插入排序、归并排序"
   ]
  },
  {
   "cell_type": "markdown",
   "metadata": {},
   "source": [
    "### 5.1 插入排序"
   ]
  },
  {
   "cell_type": "code",
   "execution_count": 1,
   "metadata": {
    "collapsed": false,
    "scrolled": true
   },
   "outputs": [
    {
     "name": "stdout",
     "output_type": "stream",
     "text": [
      "Before sorted:  [8, 2, 4, 9, 3, 6, 7]\n",
      "After sorted:  [2, 3, 4, 6, 7, 8, 9]\n"
     ]
    }
   ],
   "source": [
    "# 插入排序\n",
    "def insert_sort(A, n):\n",
    "    \"\"\"A 为一个序列，n 为序列的长度。这里所有的下标都是从 0 开始，而课堂上从 1 开始。\"\"\"\n",
    "    for j in xrange(1,n): # 按照顺序从第二个元素开始逐个插入\n",
    "        key = A[j]\n",
    "        i = j - 1\n",
    "        while (i >= 0) & (A[i] > key): \n",
    "            A[i+1] = A[i]\n",
    "            i = i - 1\n",
    "        A[i+1] = key\n",
    "    return A\n",
    "\n",
    "# Eg:\n",
    "A = [8, 2, 4, 9, 3, 6, 7]\n",
    "n = len(A)\n",
    "print 'Before sorted: ', A\n",
    "A = insert_sort(A, n)\n",
    "print 'After sorted: ', A"
   ]
  },
  {
   "cell_type": "markdown",
   "metadata": {},
   "source": [
    "- 最坏的情况（输入为逆序的序列）。\n",
    "\n",
    "$$ T(n) = \\sum_{j=2}^{n} \\Theta(j) = \\Theta(n^2) $$\n",
    "\n",
    "- 平均情况。\n",
    "\n",
    "$$ T(n) = \\sum_{j=2}^{n} \\Theta(j/2) = \\Theta(n^2) $$\n",
    "\n",
    "插入排序需要的辅助空间为 $O(1)$, 是一种稳定的排序算法。"
   ]
  },
  {
   "cell_type": "markdown",
   "metadata": {},
   "source": [
    "### 5.2 归并排序\n",
    "归并排序是一种分治问题，通过递归的方式来解决问题。在每一层的递归中，应用下面三个步骤：\n",
    "\n",
    "- **分解**：划分子问题，子问题和原问题一样，只是规模更小了。\n",
    "- **解决**：按照递归求解子问题。如果规模足够小了，则停止递归，直接求解。\n",
    "- **合并**：将子问题的解组合成原问题的解。\n",
    "\n",
    "归并排序包括下面三个步骤。\n",
    "\n",
    "<center><img src=\"https://raw.githubusercontent.com/yongyehuang/yongyehuang.github.io/master/notebooks/CLRS/fig/lecture1/1.jpg\" width=\"25%\"/>图1</center>\n",
    "\n",
    "<font color=\"red\" style=\"font-weight:bold\">关于求解递归式有三种方法：</font>\n",
    "\n",
    "- **代入法**：我们猜测一个界，然后用数学归纳法证明这个界是正确的。\n",
    "- **递归树法**：将递归问题转换为一棵树，其结点表示不同层次的递归调用产生的代价。然后采用变价和技术来求解递归式。\n",
    "- **主方法**：可求解下面公式的递归式的界: $T(n)=aT(n/b)+f(n)$ , 其中 $a\\geq1, b>1, f(n)$是一个给定函数。\n",
    "\n",
    "\n",
    "在这节课上，主要介绍了使用递归树的方法来求解归并排序。\n",
    "\n",
    "从上面归并排序的三个步骤分析，有\n",
    "\n",
    "\\begin{equation}  \n",
    "T(n)=\n",
    "\\left\\{  \n",
    "     \\begin{array}{lr} \n",
    "     \\Theta(1), &if\\ n = 1; \\\\\n",
    "     2T(n/2) + \\Theta(n), &if\\ n> 1.     \n",
    "     \\end{array}  \n",
    "\\right.  \n",
    "\\end{equation}  \n",
    "\n",
    "现在引入递归树来求解 $T(n)=2T(n/2) + cn, 其中\\ c > 0 为常数。$把上面的式子转换成一棵树。按照下面图 2~6 来推算。\n",
    "<center><img src=\"https://raw.githubusercontent.com/yongyehuang/yongyehuang.github.io/master/notebooks/CLRS/fig/lecture1/2.jpg\" width=\"35%\"/>图2</center>\n",
    "<center><img src=\"https://raw.githubusercontent.com/yongyehuang/yongyehuang.github.io/master/notebooks/CLRS/fig/lecture1/3.jpg\" width=\"35%\"/>图3</center>\n",
    "<center><img src=\"https://raw.githubusercontent.com/yongyehuang/yongyehuang.github.io/master/notebooks/CLRS/fig/lecture1/4.jpg\" width=\"35%\"/>图4</center>\n",
    "<center><img src=\"https://raw.githubusercontent.com/yongyehuang/yongyehuang.github.io/master/notebooks/CLRS/fig/lecture1/5.jpg\" width=\"35%\"/>图5</center>\n",
    "<center><img src=\"https://raw.githubusercontent.com/yongyehuang/yongyehuang.github.io/master/notebooks/CLRS/fig/lecture1/6.jpg\" width=\"35%\"/>图6</center>\n",
    "\n",
    "\n",
    "所以归并排序的**渐进时间复杂度**为 $\\Theta(nlgn)$，这比插入排序的 $\\Theta(n^2)$ 增长要慢得多。实际上，当$n>30$的时候，归并排序优于插入排序。\n",
    "\n",
    "\n",
    "下面是用 python 写的归并排序的代码。参考：[归并排序详解(python实现)](http://www.cnblogs.com/piperck/p/6030122.html)\n",
    "\n",
    "一共就两个函数。 \"merge(a,b)\" 函数将两个序列进行合并。\"merge_sort(_list)\" 函数，对序列 _list 从下（最小规模）往上进行合并排序。"
   ]
  },
  {
   "cell_type": "code",
   "execution_count": 2,
   "metadata": {
    "collapsed": false
   },
   "outputs": [
    {
     "name": "stdout",
     "output_type": "stream",
     "text": [
      "Before sorted:  [8, 2, 4, 9, 3, 6, 7]\n",
      "After sorted:  [2, 3, 4, 6, 7, 8, 9]\n"
     ]
    }
   ],
   "source": [
    "# 归并排序\n",
    "def merge(a,b):\n",
    "    \"\"\"a,b 是两个有序的序列，将a,b合并到c中返回。\"\"\"\n",
    "    c = list()\n",
    "    i = j = 0\n",
    "    while i < len(a) and j < len(b):  # 若两个list中都还有元素\n",
    "        if a[i] < b[j]:   # 从两者中选出较小的一个添加到 c 中\n",
    "            c.append(a[i])\n",
    "            i += 1\n",
    "        else:\n",
    "            c.append(b[j])\n",
    "            j += 1\n",
    "    if i == len(a):  # 如果 a 已经全部添加到 c， 把 b 剩下的部分全部添加到 c 中\n",
    "        c.extend(b[j:])\n",
    "    else:  # 否则 b 已经全部添加到 c 中，把 a 剩下的部分全部添加到 c 中\n",
    "        c.extend(a[i:])\n",
    "    return c\n",
    "\n",
    "def merge_sort(_list):\n",
    "    \"\"\"用递归的方式来对整个序列 _list 进行合并排序。\"\"\"\n",
    "    if len(_list) <= 1:          # 2.当只有一个元素的时候，直接求解。开始往上合并。\n",
    "        return _list\n",
    "    middle = len(_list) / 2      # 1.划分子序列。\n",
    "    left = merge_sort(_list[:middle])\n",
    "    right = merge_sort(_list[middle:])  \n",
    "    return merge(left, right)    # 3.合并子序列\n",
    "\n",
    "# Eg:\n",
    "A = [8, 2, 4, 9, 3, 6, 7]\n",
    "n = len(A)\n",
    "print 'Before sorted: ', A\n",
    "A = merge_sort(A)\n",
    "print 'After sorted: ', A"
   ]
  },
  {
   "cell_type": "markdown",
   "metadata": {},
   "source": [
    "下面比较两个函数的实际运行效率："
   ]
  },
  {
   "cell_type": "code",
   "execution_count": 3,
   "metadata": {
    "collapsed": true
   },
   "outputs": [],
   "source": [
    "import numpy as np\n",
    "from time import time"
   ]
  },
  {
   "cell_type": "code",
   "execution_count": 4,
   "metadata": {
    "collapsed": false
   },
   "outputs": [
    {
     "name": "stdout",
     "output_type": "stream",
     "text": [
      "Size: 1000, Insert_sort costs 0.441761 seconds.\n",
      "Size: 1000, Merge_sort costs 0.00503397 seconds.\n"
     ]
    }
   ],
   "source": [
    "size = 1000\n",
    "list1 = np.random.randint(-100, 100, size)\n",
    "time0 = time()\n",
    "list_sorted = insert_sort(list1, size)\n",
    "print 'Size: %d, Insert_sort costs %g seconds.'% (size, time() - time0)\n",
    "time0 = time()\n",
    "list_sorted = merge_sort(list1)\n",
    "print 'Size: %d, Merge_sort costs %g seconds.'% (size, time() - time0)"
   ]
  },
  {
   "cell_type": "code",
   "execution_count": 5,
   "metadata": {
    "collapsed": false
   },
   "outputs": [
    {
     "name": "stdout",
     "output_type": "stream",
     "text": [
      "Size: 10000, Insert_sort costs 30.3636 seconds.\n",
      "Size: 10000, Merge_sort costs 0.038626 seconds.\n"
     ]
    }
   ],
   "source": [
    "size = 10000\n",
    "list1 = np.random.randint(-100, 100, size)\n",
    "time0 = time()\n",
    "list_sorted = insert_sort(list1, size)\n",
    "print 'Size: %d, Insert_sort costs %g seconds.'% (size, time() - time0)\n",
    "time0 = time()\n",
    "list_sorted = merge_sort(list1)\n",
    "print 'Size: %d, Merge_sort costs %g seconds.'% (size, time() - time0)"
   ]
  },
  {
   "cell_type": "markdown",
   "metadata": {},
   "source": [
    "从上面的结果来看，归并排序的运行时间要远远小于直接插入排序。"
   ]
  },
  {
   "cell_type": "markdown",
   "metadata": {},
   "source": [
    "**总结**\n",
    "\n",
    "- 掌握渐进分析方法。\n",
    "- 掌握如何使用 递归树 的方法来求解递归问题的渐进时间复杂度。\n",
    "- 熟练编写归并排序的代码。\n",
    "\n",
    "**参考**\n",
    "\n",
    "[MIT算法导论——第一讲.Analysis of algorithm](http://blog.csdn.net/xyd0512/article/details/8210259) <br/>\n",
    "[归并排序详解(python实现)](http://www.cnblogs.com/piperck/p/6030122.html)"
   ]
  }
 ],
 "metadata": {
  "kernelspec": {
   "display_name": "Python 2",
   "language": "python",
   "name": "python2"
  },
  "language_info": {
   "codemirror_mode": {
    "name": "ipython",
    "version": 2
   },
   "file_extension": ".py",
   "mimetype": "text/x-python",
   "name": "python",
   "nbconvert_exporter": "python",
   "pygments_lexer": "ipython2",
   "version": "2.7.13"
  }
 },
 "nbformat": 4,
 "nbformat_minor": 2
}
